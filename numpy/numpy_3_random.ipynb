{
  "nbformat": 4,
  "nbformat_minor": 0,
  "metadata": {
    "colab": {
      "name": "numpy_3_random.ipynb",
      "provenance": [],
      "collapsed_sections": [],
      "include_colab_link": true
    },
    "kernelspec": {
      "name": "python3",
      "display_name": "Python 3"
    }
  },
  "cells": [
    {
      "cell_type": "markdown",
      "metadata": {
        "id": "view-in-github",
        "colab_type": "text"
      },
      "source": [
        "<a href=\"https://colab.research.google.com/github/20193253/pdm10/blob/main/numpy/numpy_3_random.ipynb\" target=\"_parent\"><img src=\"https://colab.research.google.com/assets/colab-badge.svg\" alt=\"Open In Colab\"/></a>"
      ]
    },
    {
      "cell_type": "markdown",
      "metadata": {
        "id": "_zrirXHfgmyY"
      },
      "source": [
        "# numpy\n",
        "## random 서브모듈\n",
        "> [데이터싸이언스 스쿨:난수발생](https://datascienceschool.net/01%20python/03.05%20%EB%82%9C%EC%88%98%20%EB%B0%9C%EC%83%9D%EA%B3%BC%20%EC%B9%B4%EC%9A%B4%ED%8C%85.html)"
      ]
    },
    {
      "cell_type": "code",
      "metadata": {
        "id": "kQbzzSMZG2PX"
      },
      "source": [
        "import numpy as np"
      ],
      "execution_count": 1,
      "outputs": []
    },
    {
      "cell_type": "markdown",
      "metadata": {
        "id": "1Ry0YHkNFis5"
      },
      "source": [
        "## 난수 생성\n",
        "> NumPy의 random 서브모듈은 난수를 생성하는 다양한 명령을 제공.\n",
        "\n",
        "- rand: 0부터 1사이의 균일 분포 (uniform distribution)\n",
        "- randn: 가우시안 표준 정규 분포 (normal distribution, Gaussian)\n",
        "- randint: 균일 분포의 정수 난수 (uniform int)\n",
        "\n",
        "> randn()은 평균 0, 표준편차 1 인 가우시안 정규분포를 생성."
      ]
    },
    {
      "cell_type": "markdown",
      "metadata": {
        "id": "CtO1VxvurziR"
      },
      "source": [
        "### rand: 0부터 1사이의 균일 분포 (uniform distribution)"
      ]
    },
    {
      "cell_type": "code",
      "metadata": {
        "id": "LA1oF6aEG7kJ",
        "colab": {
          "base_uri": "https://localhost:8080/"
        },
        "outputId": "c814c1de-0b00-4dc3-e632-4fe83468cdbe"
      },
      "source": [
        "np.random.rand(5)"
      ],
      "execution_count": 2,
      "outputs": [
        {
          "output_type": "execute_result",
          "data": {
            "text/plain": [
              "array([0.65559771, 0.13221024, 0.64591597, 0.32785895, 0.50299139])"
            ]
          },
          "metadata": {},
          "execution_count": 2
        }
      ]
    },
    {
      "cell_type": "code",
      "metadata": {
        "id": "H6f4ix3NHCyR",
        "colab": {
          "base_uri": "https://localhost:8080/"
        },
        "outputId": "5d9c91ea-0b50-48ef-db52-ec1dbf5f467b"
      },
      "source": [
        "np.random.rand(5)"
      ],
      "execution_count": 3,
      "outputs": [
        {
          "output_type": "execute_result",
          "data": {
            "text/plain": [
              "array([0.57203546, 0.77050774, 0.99282971, 0.52667168, 0.69134203])"
            ]
          },
          "metadata": {},
          "execution_count": 3
        }
      ]
    },
    {
      "cell_type": "markdown",
      "metadata": {
        "id": "c88F6gf8r4K2"
      },
      "source": [
        "### randn: 가우시안 표준 정규 분포 (normal distribution, Gaussian)"
      ]
    },
    {
      "cell_type": "code",
      "metadata": {
        "id": "rtVfCL-uP2Tw",
        "colab": {
          "base_uri": "https://localhost:8080/"
        },
        "outputId": "902f4b9c-d049-4d47-f178-5027e8d44a67"
      },
      "source": [
        "np.random.randn(5)"
      ],
      "execution_count": 4,
      "outputs": [
        {
          "output_type": "execute_result",
          "data": {
            "text/plain": [
              "array([-0.03144132, -0.83758343,  1.86822987, -0.64010934,  0.07350288])"
            ]
          },
          "metadata": {},
          "execution_count": 4
        }
      ]
    },
    {
      "cell_type": "code",
      "metadata": {
        "colab": {
          "base_uri": "https://localhost:8080/"
        },
        "id": "Re2HX7g61Zwv",
        "outputId": "af117e9d-0892-4cf4-8579-00915f2378e0"
      },
      "source": [
        "np.random.randn(5)"
      ],
      "execution_count": 5,
      "outputs": [
        {
          "output_type": "execute_result",
          "data": {
            "text/plain": [
              "array([ 1.38058878,  0.99296422, -0.2604355 , -0.16568779, -1.21213097])"
            ]
          },
          "metadata": {},
          "execution_count": 5
        }
      ]
    },
    {
      "cell_type": "markdown",
      "metadata": {
        "id": "wsvTzTFSsBSJ"
      },
      "source": [
        "### randint: 균일 분포의 정수 난수 (uniform int)\n",
        "- numpy.random.randint(low, high=None, size=None, dtype='l')"
      ]
    },
    {
      "cell_type": "code",
      "metadata": {
        "id": "WSvAH8uVs2Vb",
        "colab": {
          "base_uri": "https://localhost:8080/"
        },
        "outputId": "d556e333-5273-4c30-a97b-04d1d8683978"
      },
      "source": [
        "np.random.randint(5)"
      ],
      "execution_count": 8,
      "outputs": [
        {
          "output_type": "execute_result",
          "data": {
            "text/plain": [
              "2"
            ]
          },
          "metadata": {},
          "execution_count": 8
        }
      ]
    },
    {
      "cell_type": "code",
      "metadata": {
        "colab": {
          "base_uri": "https://localhost:8080/"
        },
        "id": "bdGtqGPY2HwU",
        "outputId": "6a78e1a1-327e-448f-99cf-014f6c33be83"
      },
      "source": [
        "# dice number\n",
        "np.random.randint(1, 7)"
      ],
      "execution_count": 10,
      "outputs": [
        {
          "output_type": "execute_result",
          "data": {
            "text/plain": [
              "6"
            ]
          },
          "metadata": {},
          "execution_count": 10
        }
      ]
    },
    {
      "cell_type": "code",
      "metadata": {
        "id": "McWHW15uQDPr",
        "colab": {
          "base_uri": "https://localhost:8080/"
        },
        "outputId": "570f1bce-da45-47d1-8ea9-51a0ea9d3e61"
      },
      "source": [
        "np.random.randint(5,9) "
      ],
      "execution_count": 11,
      "outputs": [
        {
          "output_type": "execute_result",
          "data": {
            "text/plain": [
              "6"
            ]
          },
          "metadata": {},
          "execution_count": 11
        }
      ]
    },
    {
      "cell_type": "code",
      "metadata": {
        "id": "oBsWu9FmQQSC",
        "colab": {
          "base_uri": "https://localhost:8080/"
        },
        "outputId": "fa2cbd89-0b53-41ea-f034-3c67c19c6f8a"
      },
      "source": [
        "np.random.randint(0,10,5)"
      ],
      "execution_count": 12,
      "outputs": [
        {
          "output_type": "execute_result",
          "data": {
            "text/plain": [
              "array([5, 0, 9, 1, 2])"
            ]
          },
          "metadata": {},
          "execution_count": 12
        }
      ]
    },
    {
      "cell_type": "code",
      "metadata": {
        "id": "0kNuJxjaQYEu",
        "colab": {
          "base_uri": "https://localhost:8080/"
        },
        "outputId": "986188a5-590f-423f-d653-0486e533cf46"
      },
      "source": [
        "np.random.randint(0,10,5)"
      ],
      "execution_count": 13,
      "outputs": [
        {
          "output_type": "execute_result",
          "data": {
            "text/plain": [
              "array([5, 4, 6, 9, 1])"
            ]
          },
          "metadata": {},
          "execution_count": 13
        }
      ]
    },
    {
      "cell_type": "markdown",
      "metadata": {
        "id": "K58DiNYUmANL"
      },
      "source": [
        "---"
      ]
    },
    {
      "cell_type": "markdown",
      "metadata": {
        "id": "xU5NWjQ3F_ld"
      },
      "source": [
        "## 난수 생성 seed 설정\n",
        "- numpy.random.seed(seed=None)\n",
        "- np.random.seed(number)"
      ]
    },
    {
      "cell_type": "code",
      "metadata": {
        "id": "AxUeYmQSQawG"
      },
      "source": [
        "np.random.seed()"
      ],
      "execution_count": 14,
      "outputs": []
    },
    {
      "cell_type": "code",
      "metadata": {
        "id": "C33YjKqvRJ33",
        "colab": {
          "base_uri": "https://localhost:8080/"
        },
        "outputId": "9df26c5b-24bf-4365-9fbb-5650681c6ae6"
      },
      "source": [
        "np.random.rand(5)"
      ],
      "execution_count": 15,
      "outputs": [
        {
          "output_type": "execute_result",
          "data": {
            "text/plain": [
              "array([0.92250818, 0.96890907, 0.3257906 , 0.61361431, 0.32650293])"
            ]
          },
          "metadata": {},
          "execution_count": 15
        }
      ]
    },
    {
      "cell_type": "code",
      "metadata": {
        "id": "Ne8rIyN9RO81",
        "colab": {
          "base_uri": "https://localhost:8080/"
        },
        "outputId": "e6102396-4df4-4864-d4f3-17d77e2b6feb"
      },
      "source": [
        "np.random.rand(5)"
      ],
      "execution_count": 16,
      "outputs": [
        {
          "output_type": "execute_result",
          "data": {
            "text/plain": [
              "array([0.72916681, 0.4699267 , 0.53090962, 0.64453259, 0.41331841])"
            ]
          },
          "metadata": {},
          "execution_count": 16
        }
      ]
    },
    {
      "cell_type": "markdown",
      "metadata": {
        "id": "wnQ4gFoltu81"
      },
      "source": [
        "### 동일한 무작위수 생성\n",
        "- seed를 고정하고 무작위수 생성"
      ]
    },
    {
      "cell_type": "code",
      "metadata": {
        "id": "LGPOJGfgRSWx"
      },
      "source": [
        "np.random.seed(1234)"
      ],
      "execution_count": 17,
      "outputs": []
    },
    {
      "cell_type": "code",
      "metadata": {
        "id": "t2PNRUpfRXZk",
        "colab": {
          "base_uri": "https://localhost:8080/"
        },
        "outputId": "1c0e6972-2103-4981-a1a4-5cbb41a7b843"
      },
      "source": [
        "np.random.rand(5)"
      ],
      "execution_count": 18,
      "outputs": [
        {
          "output_type": "execute_result",
          "data": {
            "text/plain": [
              "array([0.19151945, 0.62210877, 0.43772774, 0.78535858, 0.77997581])"
            ]
          },
          "metadata": {},
          "execution_count": 18
        }
      ]
    },
    {
      "cell_type": "code",
      "metadata": {
        "id": "x8yKednV8CZy",
        "colab": {
          "base_uri": "https://localhost:8080/"
        },
        "outputId": "6ecc5557-3ef7-4978-fb6c-89d408be98c0"
      },
      "source": [
        "np.random.rand(5)"
      ],
      "execution_count": 19,
      "outputs": [
        {
          "output_type": "execute_result",
          "data": {
            "text/plain": [
              "array([0.27259261, 0.27646426, 0.80187218, 0.95813935, 0.87593263])"
            ]
          },
          "metadata": {},
          "execution_count": 19
        }
      ]
    },
    {
      "cell_type": "code",
      "metadata": {
        "id": "bo2A_ntYRcKw"
      },
      "source": [
        "np.random.seed(1234)"
      ],
      "execution_count": 20,
      "outputs": []
    },
    {
      "cell_type": "code",
      "metadata": {
        "id": "U5qXdwYQRYeT",
        "colab": {
          "base_uri": "https://localhost:8080/"
        },
        "outputId": "6f7faa9b-4872-4e2c-e823-74da03ddce13"
      },
      "source": [
        "np.random.rand(5)"
      ],
      "execution_count": 21,
      "outputs": [
        {
          "output_type": "execute_result",
          "data": {
            "text/plain": [
              "array([0.19151945, 0.62210877, 0.43772774, 0.78535858, 0.77997581])"
            ]
          },
          "metadata": {},
          "execution_count": 21
        }
      ]
    },
    {
      "cell_type": "markdown",
      "metadata": {
        "id": "pwMXGAwmRhpW"
      },
      "source": [
        "### seed 고정 후에 randint(5)"
      ]
    },
    {
      "cell_type": "code",
      "metadata": {
        "id": "tqmTOMMVRhGW",
        "colab": {
          "base_uri": "https://localhost:8080/"
        },
        "outputId": "0aabe90b-160f-4a5c-b36d-b872fa259dca"
      },
      "source": [
        "np.random.seed(5678)\n",
        "np.random.randint(1,10,5)"
      ],
      "execution_count": 22,
      "outputs": [
        {
          "output_type": "execute_result",
          "data": {
            "text/plain": [
              "array([5, 8, 3, 5, 4])"
            ]
          },
          "metadata": {},
          "execution_count": 22
        }
      ]
    },
    {
      "cell_type": "code",
      "metadata": {
        "id": "YxQYjcOLSA-Z",
        "colab": {
          "base_uri": "https://localhost:8080/"
        },
        "outputId": "93d0bc0f-d730-476c-d5ea-d925b8388916"
      },
      "source": [
        "np.random.randint(1,10,5)"
      ],
      "execution_count": 23,
      "outputs": [
        {
          "output_type": "execute_result",
          "data": {
            "text/plain": [
              "array([6, 3, 7, 4, 1])"
            ]
          },
          "metadata": {},
          "execution_count": 23
        }
      ]
    },
    {
      "cell_type": "code",
      "metadata": {
        "id": "aQYF5QpGSD6p",
        "colab": {
          "base_uri": "https://localhost:8080/"
        },
        "outputId": "dbc5d0bc-a6bd-419d-da23-1b5a9ddb3a9f"
      },
      "source": [
        "np.random.seed(5678)\n",
        "np.random.randint(1,10,5)"
      ],
      "execution_count": 24,
      "outputs": [
        {
          "output_type": "execute_result",
          "data": {
            "text/plain": [
              "array([5, 8, 3, 5, 4])"
            ]
          },
          "metadata": {},
          "execution_count": 24
        }
      ]
    },
    {
      "cell_type": "code",
      "metadata": {
        "id": "cfIhMEcVSGKa",
        "colab": {
          "base_uri": "https://localhost:8080/"
        },
        "outputId": "c43c97ab-5253-4ba0-f08d-ef0140ae2de1"
      },
      "source": [
        "np.random.seed(5678)\n",
        "np.random.randint(1,10,5)"
      ],
      "execution_count": 25,
      "outputs": [
        {
          "output_type": "execute_result",
          "data": {
            "text/plain": [
              "array([5, 8, 3, 5, 4])"
            ]
          },
          "metadata": {},
          "execution_count": 25
        }
      ]
    },
    {
      "cell_type": "code",
      "metadata": {
        "id": "Ik9a-QkcfLwy",
        "colab": {
          "base_uri": "https://localhost:8080/"
        },
        "outputId": "a8fb1899-42d8-4c9e-aea1-b8345a2d7273"
      },
      "source": [
        "# seed 변경\n",
        "np.random.seed(0)\n",
        "np.random.randint(1,10,5)"
      ],
      "execution_count": 26,
      "outputs": [
        {
          "output_type": "execute_result",
          "data": {
            "text/plain": [
              "array([6, 1, 4, 4, 8])"
            ]
          },
          "metadata": {},
          "execution_count": 26
        }
      ]
    },
    {
      "cell_type": "markdown",
      "metadata": {
        "id": "Zg3g31drmDMI"
      },
      "source": [
        "---\n",
        "---"
      ]
    },
    {
      "cell_type": "markdown",
      "metadata": {
        "id": "YNVh_pbhfROq"
      },
      "source": [
        "## DIY: 도전 코딩 - numpy 정리 과제\n",
        "- 생성된 마구잡이수를 조사하고 사용하기 \n",
        "- 9월19일 자정 마감."
      ]
    },
    {
      "cell_type": "markdown",
      "metadata": {
        "id": "vxNHFDSIgMmC"
      },
      "source": [
        "### [도전 1.] 0부터 9까지의 마구잡이 정수를 1000개 만들고 각 수의 빈도를 구하시오. "
      ]
    },
    {
      "cell_type": "code",
      "metadata": {
        "id": "qkDfXH1xgjBz",
        "colab": {
          "base_uri": "https://localhost:8080/"
        },
        "outputId": "ad340007-7d61-408d-9cd5-60721ff4bf81"
      },
      "source": [
        "# n1000=\n",
        "n1000 = np.random.randint(0,10,1000)\n",
        "n1000"
      ],
      "execution_count": 43,
      "outputs": [
        {
          "output_type": "execute_result",
          "data": {
            "text/plain": [
              "array([6, 1, 3, 9, 6, 7, 8, 3, 1, 8, 3, 7, 5, 4, 6, 4, 3, 5, 7, 2, 8, 5,\n",
              "       7, 3, 9, 0, 2, 8, 5, 1, 6, 8, 1, 3, 7, 0, 2, 0, 5, 4, 5, 6, 7, 0,\n",
              "       7, 7, 4, 8, 8, 4, 3, 3, 1, 9, 6, 2, 4, 6, 9, 9, 9, 2, 5, 8, 8, 5,\n",
              "       0, 4, 8, 2, 9, 5, 0, 9, 4, 3, 7, 2, 2, 0, 0, 8, 6, 2, 5, 1, 7, 9,\n",
              "       4, 0, 3, 5, 6, 5, 5, 1, 0, 7, 3, 3, 1, 4, 8, 5, 8, 6, 7, 5, 0, 4,\n",
              "       3, 8, 5, 6, 5, 5, 0, 0, 7, 7, 8, 2, 1, 7, 6, 0, 0, 6, 5, 5, 7, 0,\n",
              "       0, 5, 5, 1, 5, 1, 5, 9, 7, 4, 7, 2, 0, 3, 8, 2, 2, 0, 3, 0, 7, 3,\n",
              "       7, 1, 5, 5, 7, 0, 3, 3, 6, 0, 1, 7, 6, 8, 7, 2, 6, 1, 8, 4, 9, 5,\n",
              "       8, 2, 9, 1, 3, 1, 3, 8, 8, 7, 9, 4, 7, 1, 3, 0, 0, 3, 8, 3, 1, 4,\n",
              "       9, 6, 6, 6, 1, 1, 8, 7, 0, 6, 6, 3, 3, 8, 2, 8, 1, 3, 4, 4, 3, 3,\n",
              "       3, 4, 7, 9, 3, 2, 1, 2, 3, 9, 2, 6, 5, 7, 6, 7, 1, 9, 2, 3, 8, 1,\n",
              "       7, 2, 2, 7, 8, 0, 3, 9, 6, 6, 7, 4, 9, 4, 3, 8, 7, 9, 2, 8, 9, 1,\n",
              "       2, 5, 3, 1, 6, 1, 8, 5, 9, 3, 3, 7, 6, 4, 5, 5, 2, 3, 8, 5, 9, 3,\n",
              "       4, 9, 6, 2, 8, 5, 5, 8, 9, 9, 8, 7, 1, 9, 6, 8, 7, 8, 5, 7, 0, 8,\n",
              "       8, 3, 2, 5, 7, 7, 6, 0, 3, 2, 9, 4, 5, 9, 1, 9, 1, 0, 4, 4, 0, 2,\n",
              "       3, 0, 8, 2, 8, 8, 5, 9, 2, 6, 0, 4, 6, 5, 7, 6, 8, 1, 0, 9, 8, 4,\n",
              "       4, 5, 4, 1, 3, 5, 3, 7, 8, 9, 1, 1, 2, 2, 7, 9, 5, 6, 0, 8, 9, 5,\n",
              "       4, 5, 2, 6, 5, 6, 6, 1, 2, 3, 2, 5, 9, 2, 9, 2, 3, 0, 0, 9, 5, 7,\n",
              "       3, 9, 9, 0, 5, 4, 1, 0, 0, 0, 4, 9, 4, 0, 8, 7, 1, 8, 9, 6, 4, 8,\n",
              "       9, 6, 4, 7, 0, 4, 3, 4, 9, 9, 6, 1, 3, 2, 8, 5, 0, 6, 7, 8, 2, 8,\n",
              "       6, 4, 8, 5, 9, 4, 7, 0, 4, 8, 1, 1, 7, 9, 8, 7, 5, 5, 9, 4, 8, 1,\n",
              "       7, 1, 9, 5, 1, 3, 0, 2, 7, 9, 4, 9, 1, 2, 3, 6, 8, 5, 6, 1, 0, 0,\n",
              "       1, 5, 7, 7, 0, 4, 4, 3, 8, 7, 7, 4, 2, 2, 2, 4, 1, 2, 4, 4, 2, 7,\n",
              "       3, 2, 1, 7, 0, 4, 4, 9, 5, 4, 9, 3, 2, 1, 5, 3, 5, 7, 3, 8, 5, 7,\n",
              "       8, 3, 9, 5, 5, 4, 3, 8, 9, 8, 0, 4, 2, 5, 9, 2, 5, 1, 9, 8, 8, 3,\n",
              "       6, 2, 5, 8, 2, 5, 0, 7, 0, 8, 9, 2, 4, 1, 0, 1, 9, 9, 4, 1, 8, 8,\n",
              "       9, 2, 1, 6, 2, 5, 3, 1, 7, 9, 8, 1, 9, 9, 0, 2, 0, 0, 1, 9, 5, 4,\n",
              "       5, 4, 9, 2, 5, 4, 6, 4, 1, 9, 8, 6, 6, 7, 6, 0, 4, 3, 7, 9, 9, 2,\n",
              "       9, 6, 0, 2, 6, 8, 7, 1, 1, 0, 1, 4, 1, 0, 3, 8, 4, 9, 1, 4, 6, 4,\n",
              "       2, 7, 4, 2, 5, 9, 2, 9, 6, 5, 8, 8, 7, 8, 8, 0, 1, 9, 9, 7, 8, 5,\n",
              "       2, 8, 8, 7, 3, 6, 0, 5, 0, 9, 1, 8, 3, 6, 9, 4, 0, 3, 3, 5, 6, 0,\n",
              "       5, 4, 9, 0, 2, 4, 5, 1, 0, 7, 6, 3, 8, 1, 2, 6, 0, 5, 4, 0, 5, 8,\n",
              "       6, 2, 2, 3, 6, 2, 2, 7, 8, 6, 0, 8, 0, 8, 0, 9, 9, 4, 7, 7, 7, 0,\n",
              "       3, 2, 4, 5, 5, 2, 4, 8, 0, 0, 1, 4, 9, 1, 3, 8, 8, 3, 5, 8, 2, 3,\n",
              "       8, 0, 5, 8, 0, 0, 0, 5, 5, 9, 7, 7, 8, 0, 7, 2, 4, 1, 6, 7, 9, 2,\n",
              "       6, 3, 3, 9, 6, 9, 9, 1, 5, 4, 3, 9, 4, 1, 9, 0, 1, 0, 0, 5, 9, 4,\n",
              "       5, 2, 0, 6, 4, 4, 2, 8, 9, 6, 7, 7, 6, 6, 0, 7, 5, 8, 9, 9, 8, 0,\n",
              "       8, 7, 4, 0, 0, 7, 5, 0, 7, 2, 2, 0, 6, 6, 7, 2, 1, 9, 5, 4, 3, 9,\n",
              "       7, 5, 5, 4, 4, 3, 9, 5, 5, 9, 3, 3, 3, 6, 9, 2, 6, 7, 4, 6, 4, 8,\n",
              "       0, 8, 8, 2, 6, 3, 6, 2, 4, 2, 5, 0, 5, 4, 8, 5, 9, 1, 7, 0, 6, 2,\n",
              "       2, 6, 0, 2, 5, 9, 1, 8, 0, 6, 9, 6, 5, 3, 3, 6, 1, 4, 6, 2, 6, 2,\n",
              "       2, 3, 2, 1, 0, 7, 1, 4, 7, 1, 1, 1, 7, 4, 6, 5, 8, 5, 5, 8, 8, 5,\n",
              "       1, 2, 0, 8, 7, 8, 6, 5, 9, 4, 9, 6, 2, 1, 2, 8, 8, 4, 6, 9, 9, 2,\n",
              "       4, 4, 5, 5, 5, 7, 3, 9, 1, 0, 7, 0, 6, 7, 1, 6, 8, 2, 2, 5, 5, 3,\n",
              "       8, 1, 6, 4, 2, 9, 5, 7, 6, 1, 8, 1, 8, 0, 0, 3, 9, 7, 8, 9, 9, 5,\n",
              "       6, 4, 6, 7, 1, 4, 4, 1, 3, 0])"
            ]
          },
          "metadata": {},
          "execution_count": 43
        }
      ]
    },
    {
      "cell_type": "code",
      "metadata": {
        "id": "9_6nzbQD3FZi"
      },
      "source": [
        "# np.unique(n1000)"
      ],
      "execution_count": 31,
      "outputs": []
    },
    {
      "cell_type": "code",
      "metadata": {
        "id": "eiw9R1243Rzp"
      },
      "source": [
        "# 각 수의 빈도"
      ],
      "execution_count": null,
      "outputs": []
    },
    {
      "cell_type": "markdown",
      "metadata": {
        "id": "cIhlY6-GghMN"
      },
      "source": [
        "### [도전 2.] 0부터 9까지의 마구잡이 정수를 1000개 만들고 각 수가 처음 출현하는 인덱스를 구하시오.\n",
        "> 0이 처음 나타날 때의 인덱스, 1이 처음 나타날 때의 인덱스, ... "
      ]
    },
    {
      "cell_type": "code",
      "metadata": {
        "colab": {
          "base_uri": "https://localhost:8080/"
        },
        "id": "0iOwZyIN4_Cn",
        "outputId": "45ea9d33-ee44-4654-ea88-938aeecbacac"
      },
      "source": [
        "n1000[0], n1000[800]"
      ],
      "execution_count": 32,
      "outputs": [
        {
          "output_type": "execute_result",
          "data": {
            "text/plain": [
              "(8, 8)"
            ]
          },
          "metadata": {},
          "execution_count": 32
        }
      ]
    },
    {
      "cell_type": "code",
      "metadata": {
        "id": "oA1ec_RjgL3X"
      },
      "source": [
        "# 각 수가 처음 출현하는 인덱스\n"
      ],
      "execution_count": null,
      "outputs": []
    },
    {
      "cell_type": "code",
      "metadata": {
        "id": "yubibMMZ4AZS"
      },
      "source": [
        "# n1000[index]"
      ],
      "execution_count": null,
      "outputs": []
    },
    {
      "cell_type": "markdown",
      "metadata": {
        "id": "sadkRzWjgiTM"
      },
      "source": [
        "### [도전 3.] seed를 1234로 고정하고, 위의 도전1,2를 다시 해보시오. "
      ]
    },
    {
      "cell_type": "markdown",
      "metadata": {
        "id": "zAGojAainnox"
      },
      "source": [
        "### [도전 4.] 0부터 999까지의 마구잡이 정수로 구성되는 28X28 이차원배열을 만드시오.\n",
        "- 시드를 고정 : np.random.seed(1234)\n",
        "1. 각 행의 최대값, 최소갑을 구하시오.\n",
        "2. 배열 전체의 최대값, 최소값을 구하시오.\n",
        "3. 배열전체의 최대값, 최소값의 index를 각각 찾으시오."
      ]
    },
    {
      "cell_type": "markdown",
      "metadata": {
        "id": "VoSu8rNOnwPU"
      },
      "source": [
        "---\n",
        "---"
      ]
    },
    {
      "cell_type": "markdown",
      "metadata": {
        "id": "ozoCcRquhg4p"
      },
      "source": [
        "## python graphics\n",
        "- matplotlib\n",
        "> import matplotlib.pyplot as plt"
      ]
    },
    {
      "cell_type": "markdown",
      "metadata": {
        "id": "h6yEJiGJ4Lbk"
      },
      "source": [
        "### 무작위수 분포 그려보기"
      ]
    },
    {
      "cell_type": "code",
      "metadata": {
        "id": "ngcwuNlfhrIQ"
      },
      "source": [
        "import matplotlib.pyplot as plt"
      ],
      "execution_count": 39,
      "outputs": []
    },
    {
      "cell_type": "code",
      "metadata": {
        "id": "jr30IHxvJDuE",
        "colab": {
          "base_uri": "https://localhost:8080/",
          "height": 319
        },
        "outputId": "e88fcdfb-6e48-40bc-df5d-b09814e346d6"
      },
      "source": [
        "plt.hist(n1000,label=range(0,10), color='red') #, bins=20)\n",
        "# plt.show()"
      ],
      "execution_count": 45,
      "outputs": [
        {
          "output_type": "execute_result",
          "data": {
            "text/plain": [
              "(array([102.,  91.,  98.,  88.,  98., 112.,  93.,  97., 112., 109.]),\n",
              " array([0. , 0.9, 1.8, 2.7, 3.6, 4.5, 5.4, 6.3, 7.2, 8.1, 9. ]),\n",
              " <a list of 10 Patch objects>)"
            ]
          },
          "metadata": {},
          "execution_count": 45
        },
        {
          "output_type": "display_data",
          "data": {
            "image/png": "[encoded data removed]",
            "text/plain": [
              "<Figure size 432x288 with 1 Axes>"
            ]
          },
          "metadata": {
            "needs_background": "light"
          }
        }
      ]
    },
    {
      "cell_type": "markdown",
      "metadata": {
        "id": "b-JcgSU-Ktyz"
      },
      "source": [
        "### [도전] 균일분포와 정규분포를 비교하는 그림을 그리시오."
      ]
    },
    {
      "cell_type": "code",
      "metadata": {
        "id": "k0XaT2f9JGZy",
        "colab": {
          "base_uri": "https://localhost:8080/",
          "height": 355
        },
        "outputId": "3ecdd3f6-ee58-4adc-d17f-df93e69bc44a"
      },
      "source": [
        "plt.hist(np.random.rand(1000))"
      ],
      "execution_count": 46,
      "outputs": [
        {
          "output_type": "execute_result",
          "data": {
            "text/plain": [
              "(array([103.,  97.,  91.,  92., 108., 122., 102., 104.,  93.,  88.]),\n",
              " array([2.00275301e-05, 9.98905645e-02, 1.99761101e-01, 2.99631638e-01,\n",
              "        3.99502175e-01, 4.99372712e-01, 5.99243249e-01, 6.99113786e-01,\n",
              "        7.98984323e-01, 8.98854860e-01, 9.98725397e-01]),\n",
              " <a list of 10 Patch objects>)"
            ]
          },
          "metadata": {},
          "execution_count": 46
        },
        {
          "output_type": "display_data",
          "data": {
            "image/png": "[encoded data removed]",
            "text/plain": [
              "<Figure size 432x288 with 1 Axes>"
            ]
          },
          "metadata": {
            "needs_background": "light"
          }
        }
      ]
    },
    {
      "cell_type": "code",
      "metadata": {
        "id": "T8SCqKVeMhBF",
        "colab": {
          "base_uri": "https://localhost:8080/",
          "height": 661
        },
        "outputId": "37731e77-04ce-4727-e298-5bc3dd7685f8"
      },
      "source": [
        "plt.hist(np.random.randn(1000000), bins=50)"
      ],
      "execution_count": 50,
      "outputs": [
        {
          "output_type": "execute_result",
          "data": {
            "text/plain": [
              "(array([3.0000e+00, 0.0000e+00, 2.0000e+00, 6.0000e+00, 9.0000e+00,\n",
              "        2.6000e+01, 5.7000e+01, 1.0300e+02, 2.3400e+02, 4.5800e+02,\n",
              "        8.5700e+02, 1.7570e+03, 3.0190e+03, 4.9560e+03, 7.9780e+03,\n",
              "        1.2629e+04, 1.8249e+04, 2.6159e+04, 3.4975e+04, 4.5401e+04,\n",
              "        5.6353e+04, 6.6580e+04, 7.5180e+04, 8.0415e+04, 8.4452e+04,\n",
              "        8.3355e+04, 7.8352e+04, 7.1115e+04, 6.1527e+04, 5.1042e+04,\n",
              "        4.0886e+04, 3.0641e+04, 2.2338e+04, 1.5371e+04, 1.0179e+04,\n",
              "        6.5340e+03, 3.9160e+03, 2.2700e+03, 1.3200e+03, 6.5200e+02,\n",
              "        3.1500e+02, 1.6900e+02, 9.9000e+01, 3.4000e+01, 1.3000e+01,\n",
              "        9.0000e+00, 2.0000e+00, 2.0000e+00, 0.0000e+00, 1.0000e+00]),\n",
              " array([-5.22593896, -5.0148522 , -4.80376544, -4.59267869, -4.38159193,\n",
              "        -4.17050517, -3.95941841, -3.74833166, -3.5372449 , -3.32615814,\n",
              "        -3.11507138, -2.90398462, -2.69289787, -2.48181111, -2.27072435,\n",
              "        -2.05963759, -1.84855084, -1.63746408, -1.42637732, -1.21529056,\n",
              "        -1.0042038 , -0.79311705, -0.58203029, -0.37094353, -0.15985677,\n",
              "         0.05122998,  0.26231674,  0.4734035 ,  0.68449026,  0.89557702,\n",
              "         1.10666377,  1.31775053,  1.52883729,  1.73992405,  1.9510108 ,\n",
              "         2.16209756,  2.37318432,  2.58427108,  2.79535784,  3.00644459,\n",
              "         3.21753135,  3.42861811,  3.63970487,  3.85079162,  4.06187838,\n",
              "         4.27296514,  4.4840519 ,  4.69513866,  4.90622541,  5.11731217,\n",
              "         5.32839893]),\n",
              " <a list of 50 Patch objects>)"
            ]
          },
          "metadata": {},
          "execution_count": 50
        },
        {
          "output_type": "display_data",
          "data": {
            "image/png": "[encoded data removed]",
            "text/plain": [
              "<Figure size 432x288 with 1 Axes>"
            ]
          },
          "metadata": {
            "needs_background": "light"
          }
        }
      ]
    },
    {
      "cell_type": "markdown",
      "metadata": {
        "id": "LYthn3089aqD"
      },
      "source": [
        "## 보충 코드"
      ]
    },
    {
      "cell_type": "code",
      "metadata": {
        "id": "BUkVDXTJMkwc",
        "colab": {
          "base_uri": "https://localhost:8080/"
        },
        "outputId": "909e26ad-4b3c-45f0-a13b-347a3481df63"
      },
      "source": [
        "n1000 = np.max(np.random.randint(0, 10, 1000))\n",
        "n1000"
      ],
      "execution_count": 36,
      "outputs": [
        {
          "output_type": "execute_result",
          "data": {
            "text/plain": [
              "9"
            ]
          },
          "metadata": {},
          "execution_count": 36
        }
      ]
    },
    {
      "cell_type": "code",
      "metadata": {
        "id": "xza_yV8nMshU"
      },
      "source": [
        "value, count= np.unique(n1000, return_counts=True)"
      ],
      "execution_count": 37,
      "outputs": []
    },
    {
      "cell_type": "code",
      "metadata": {
        "id": "al1pM1aK9Vk7",
        "colab": {
          "base_uri": "https://localhost:8080/"
        },
        "outputId": "0fb88c42-5a58-4b3d-9071-3d60d6794860"
      },
      "source": [
        "value, count"
      ],
      "execution_count": 38,
      "outputs": [
        {
          "output_type": "execute_result",
          "data": {
            "text/plain": [
              "(array([9]), array([1]))"
            ]
          },
          "metadata": {},
          "execution_count": 38
        }
      ]
    },
    {
      "cell_type": "code",
      "metadata": {
        "id": "xwj825-C6ALE"
      },
      "source": [
        ""
      ],
      "execution_count": null,
      "outputs": []
    }
  ]
}