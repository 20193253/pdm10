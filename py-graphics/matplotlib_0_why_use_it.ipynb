{
  "nbformat": 4,
  "nbformat_minor": 0,
  "metadata": {
    "colab": {
      "name": "matplotlib_0_why_use_it.ipynb",
      "provenance": [],
      "collapsed_sections": [],
      "include_colab_link": true
    },
    "kernelspec": {
      "name": "python3",
      "display_name": "Python 3"
    }
  },
  "cells": [
    {
      "cell_type": "markdown",
      "metadata": {
        "id": "view-in-github",
        "colab_type": "text"
      },
      "source": [
        "<a href=\"https://colab.research.google.com/github/20193253/pdm10/blob/main/py-graphics/matplotlib_0_why_use_it.ipynb\" target=\"_parent\"><img src=\"https://colab.research.google.com/assets/colab-badge.svg\" alt=\"Open In Colab\"/></a>"
      ]
    },
    {
      "cell_type": "markdown",
      "metadata": {
        "id": "9Wej-7GZ4f3N"
      },
      "source": [
        "## Python module 2. **matplotlib**\n",
        "### Python graphics using matplotlib\n",
        "- Visualization\n",
        "- Front-end deployment to WEB or Mobile"
      ]
    },
    {
      "cell_type": "markdown",
      "metadata": {
        "id": "1Ry0YHkNFis5"
      },
      "source": [
        "## 난수 생성\n",
        "> NumPy의 random 서브모듈은 난수를 생성하는 다양한 명령을 제공.\n",
        "\n",
        "- rand: 0부터 1사이의 균일 분포 (uniform distribution) -> 백색 잡음\n",
        "- randn: 가우시안 표준 정규 분포 (normal distribution, Gaussian) -> 가우시안 잡음\n",
        "- randint: 균일 분포의 정수 난수 (uniform int)\n",
        "\n",
        "> randn()은 평균 0, 표준편차 1 인 가우시안 정규분포를 생성."
      ]
    },
    {
      "cell_type": "markdown",
      "metadata": {
        "id": "ozoCcRquhg4p"
      },
      "source": [
        "## python graphics\n",
        "- matplotlib\n",
        "> import matplotlib.pyplot as plt"
      ]
    },
    {
      "cell_type": "markdown",
      "metadata": {
        "id": "h6yEJiGJ4Lbk"
      },
      "source": [
        "### 무작위수 분포 그려보기"
      ]
    },
    {
      "cell_type": "code",
      "metadata": {
        "id": "ngcwuNlfhrIQ"
      },
      "source": [
        "# import module; numpy, matplotlib\n",
        "import numpy as np\n",
        "import matplotlib.pyplot as plt"
      ],
      "execution_count": 5,
      "outputs": []
    },
    {
      "cell_type": "code",
      "metadata": {
        "id": "EZK12Xg7H55L",
        "colab": {
          "base_uri": "https://localhost:8080/"
        },
        "outputId": "224886e0-fd8d-449d-d0e8-ecafe495564c"
      },
      "source": [
        "n1000 = np.random.randint(0,10,1000)\n",
        "n1000.shape"
      ],
      "execution_count": 6,
      "outputs": [
        {
          "output_type": "execute_result",
          "data": {
            "text/plain": [
              "(1000,)"
            ]
          },
          "metadata": {},
          "execution_count": 6
        }
      ]
    },
    {
      "cell_type": "code",
      "metadata": {
        "id": "A6ZNTRNXI4Vw",
        "colab": {
          "base_uri": "https://localhost:8080/"
        },
        "outputId": "776f49c3-b5ce-4210-b686-3dd00cc70d1c"
      },
      "source": [
        "n1000[:20]"
      ],
      "execution_count": 7,
      "outputs": [
        {
          "output_type": "execute_result",
          "data": {
            "text/plain": [
              "array([8, 2, 1, 2, 0, 7, 2, 8, 1, 3, 3, 7, 3, 6, 3, 9, 1, 1, 1, 8])"
            ]
          },
          "metadata": {},
          "execution_count": 7
        }
      ]
    },
    {
      "cell_type": "code",
      "metadata": {
        "id": "jr30IHxvJDuE",
        "colab": {
          "base_uri": "https://localhost:8080/",
          "height": 319
        },
        "outputId": "6ef6940b-33a4-4ee2-dd35-18f9313de6f6"
      },
      "source": [
        "plt.hist(n1000,label=range(0,10)) #, color='red')\n",
        "# plt.show()"
      ],
      "execution_count": 8,
      "outputs": [
        {
          "output_type": "execute_result",
          "data": {
            "text/plain": [
              "(array([ 90., 112., 119.,  96.,  95., 102.,  76., 114.,  98.,  98.]),\n",
              " array([0. , 0.9, 1.8, 2.7, 3.6, 4.5, 5.4, 6.3, 7.2, 8.1, 9. ]),\n",
              " <a list of 10 Patch objects>)"
            ]
          },
          "metadata": {},
          "execution_count": 8
        },
        {
          "output_type": "display_data",
          "data": {
            "image/png": "[encoded data removed]",
            "text/plain": [
              "<Figure size 432x288 with 1 Axes>"
            ]
          },
          "metadata": {
            "needs_background": "light"
          }
        }
      ]
    },
    {
      "cell_type": "markdown",
      "metadata": {
        "id": "b-JcgSU-Ktyz"
      },
      "source": [
        "### [도전] 균일분포와 정규분포를 비교하는 그림을 그리시오."
      ]
    },
    {
      "cell_type": "code",
      "metadata": {
        "id": "k0XaT2f9JGZy",
        "colab": {
          "base_uri": "https://localhost:8080/",
          "height": 355
        },
        "outputId": "8a48ebe1-32d3-48cc-9e5c-4842f585a420"
      },
      "source": [
        "plt.hist(np.random.rand(1000))"
      ],
      "execution_count": 9,
      "outputs": [
        {
          "output_type": "execute_result",
          "data": {
            "text/plain": [
              "(array([102., 110., 104., 100.,  97.,  87., 104., 111.,  90.,  95.]),\n",
              " array([4.35696252e-04, 1.00369578e-01, 2.00303460e-01, 3.00237342e-01,\n",
              "        4.00171224e-01, 5.00105106e-01, 6.00038988e-01, 6.99972870e-01,\n",
              "        7.99906752e-01, 8.99840634e-01, 9.99774516e-01]),\n",
              " <a list of 10 Patch objects>)"
            ]
          },
          "metadata": {},
          "execution_count": 9
        },
        {
          "output_type": "display_data",
          "data": {
            "image/png": "[encoded data removed]",
            "text/plain": [
              "<Figure size 432x288 with 1 Axes>"
            ]
          },
          "metadata": {
            "needs_background": "light"
          }
        }
      ]
    },
    {
      "cell_type": "code",
      "metadata": {
        "id": "T8SCqKVeMhBF",
        "colab": {
          "base_uri": "https://localhost:8080/",
          "height": 355
        },
        "outputId": "4d6618b9-f612-4cb0-a86e-6902d980ba13"
      },
      "source": [
        "plt.hist(np.random.randn(1000))"
      ],
      "execution_count": 10,
      "outputs": [
        {
          "output_type": "execute_result",
          "data": {
            "text/plain": [
              "(array([  4.,  11.,  65., 142., 225., 256., 169.,  79.,  38.,  11.]),\n",
              " array([-3.22031647, -2.60470372, -1.98909098, -1.37347823, -0.75786548,\n",
              "        -0.14225273,  0.47336002,  1.08897277,  1.70458552,  2.32019826,\n",
              "         2.93581101]),\n",
              " <a list of 10 Patch objects>)"
            ]
          },
          "metadata": {},
          "execution_count": 10
        },
        {
          "output_type": "display_data",
          "data": {
            "image/png": "[encoded data removed]",
            "text/plain": [
              "<Figure size 432x288 with 1 Axes>"
            ]
          },
          "metadata": {
            "needs_background": "light"
          }
        }
      ]
    },
    {
      "cell_type": "code",
      "metadata": {
        "id": "BUkVDXTJMkwc",
        "colab": {
          "base_uri": "https://localhost:8080/"
        },
        "outputId": "5b579b1b-f743-4591-e99b-b4db19fe9d5c"
      },
      "source": [
        "np.max(np.random.randn(1000))"
      ],
      "execution_count": 11,
      "outputs": [
        {
          "output_type": "execute_result",
          "data": {
            "text/plain": [
              "3.2969813522607585"
            ]
          },
          "metadata": {},
          "execution_count": 11
        }
      ]
    },
    {
      "cell_type": "markdown",
      "metadata": {
        "id": "D5XGB1v_PAeU"
      },
      "source": [
        "### [도전] 0~9 사이의 무작위 정수 1000개를 만들어서 각 수에 대한 막대그래프를 그리시오."
      ]
    },
    {
      "cell_type": "code",
      "metadata": {
        "id": "xza_yV8nMshU"
      },
      "source": [
        "value, count= np.unique(n1000, return_counts=True)\n",
        "# count"
      ],
      "execution_count": 12,
      "outputs": []
    },
    {
      "cell_type": "code",
      "metadata": {
        "id": "CtOSk4RpQTXG",
        "colab": {
          "base_uri": "https://localhost:8080/",
          "height": 283
        },
        "outputId": "72936020-8bc7-45c3-d7af-0cb7bde1ebb4"
      },
      "source": [
        "plt.bar(value,count) #,color=\"bgrcmyk\")  # 'bgrcmykw"
      ],
      "execution_count": 13,
      "outputs": [
        {
          "output_type": "execute_result",
          "data": {
            "text/plain": [
              "<BarContainer object of 10 artists>"
            ]
          },
          "metadata": {},
          "execution_count": 13
        },
        {
          "output_type": "display_data",
          "data": {
            "image/png": "[encoded data removed]",
            "text/plain": [
              "<Figure size 432x288 with 1 Axes>"
            ]
          },
          "metadata": {
            "needs_background": "light"
          }
        }
      ]
    },
    {
      "cell_type": "markdown",
      "metadata": {
        "id": "vJOiAMJ5Jpnq"
      },
      "source": [
        "> [Python matplotlib 그래픽스](https://datascienceschool.net/01%20python/05.01%20%EC%8B%9C%EA%B0%81%ED%99%94%20%ED%8C%A8%ED%82%A4%EC%A7%80%20%EB%A7%B7%ED%94%8C%EB%A1%AF%EB%A6%AC%EB%B8%8C%20%EC%86%8C%EA%B0%9C.html)\n",
        "\n",
        "> [Mnist demo by Redwoods](http://life21c.inje.ac.kr:8501)"
      ]
    },
    {
      "cell_type": "code",
      "metadata": {
        "id": "xkt78bvjQYbN"
      },
      "source": [
        ""
      ],
      "execution_count": 13,
      "outputs": []
    }
  ]
}