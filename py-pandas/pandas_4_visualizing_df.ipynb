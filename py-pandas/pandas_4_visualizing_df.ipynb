{
  "nbformat": 4,
  "nbformat_minor": 0,
  "metadata": {
    "kernelspec": {
      "name": "python3",
      "display_name": "Python 3"
    },
    "language_info": {
      "codemirror_mode": {
        "name": "ipython",
        "version": 3
      },
      "file_extension": ".py",
      "mimetype": "text/x-python",
      "name": "python",
      "nbconvert_exporter": "python",
      "pygments_lexer": "ipython3",
      "version": "3.6.6"
    },
    "colab": {
      "name": "pandas_4_visualizing_df.ipynb",
      "provenance": [],
      "collapsed_sections": [],
      "include_colab_link": true
    }
  },
  "cells": [
    {
      "cell_type": "markdown",
      "metadata": {
        "id": "view-in-github",
        "colab_type": "text"
      },
      "source": [
        "<a href=\"https://colab.research.google.com/github/20193253/pdm10/blob/main/py-pandas/pandas_4_visualizing_df.ipynb\" target=\"_parent\"><img src=\"https://colab.research.google.com/assets/colab-badge.svg\" alt=\"Open In Colab\"/></a>"
      ]
    },
    {
      "cell_type": "markdown",
      "metadata": {
        "id": "-a_Ksvwdx5pf"
      },
      "source": [
        "### Python module 3. **pandas**"
      ]
    },
    {
      "cell_type": "markdown",
      "metadata": {
        "id": "P_F0RSPKx5pl"
      },
      "source": [
        "# Using pandas"
      ]
    },
    {
      "cell_type": "markdown",
      "metadata": {
        "id": "FfxMgWUFx5pm"
      },
      "source": [
        "* [10 Minutes to pandas](https://pandas.pydata.org/pandas-docs/stable/10min.html)\n",
        "* [Pandas tutorial with interactive exercises](https://www.kaggle.com/pistak/pandas-tutorial-with-interactive-exercises)"
      ]
    },
    {
      "cell_type": "code",
      "metadata": {
        "id": "2mpGSeRlx5po"
      },
      "source": [
        "import pandas as pd\n",
        "import numpy as np\n",
        "import matplotlib.pyplot as plt\n",
        "# %matplotlib inline  # work for Jupyter notebook or lab"
      ],
      "execution_count": null,
      "outputs": []
    },
    {
      "cell_type": "code",
      "metadata": {
        "id": "w2eNkCfLx5p-",
        "colab": {
          "base_uri": "https://localhost:8080/"
        },
        "outputId": "3e22f63a-bd1e-477f-c118-c75a9f274601"
      },
      "source": [
        "# Creating a DataFrame by passing a NumPy array, with a datetime index and labeled columns:\n",
        "dates = pd.date_range('20210927', periods=6)\n",
        "dates"
      ],
      "execution_count": null,
      "outputs": [
        {
          "output_type": "execute_result",
          "data": {
            "text/plain": [
              "DatetimeIndex(['2021-09-27', '2021-09-28', '2021-09-29', '2021-09-30',\n",
              "               '2021-10-01', '2021-10-02'],\n",
              "              dtype='datetime64[ns]', freq='D')"
            ]
          },
          "metadata": {},
          "execution_count": 36
        }
      ]
    },
    {
      "cell_type": "code",
      "metadata": {
        "id": "dHwUodTGx5qj",
        "colab": {
          "base_uri": "https://localhost:8080/",
          "height": 238
        },
        "outputId": "bb613d29-4755-4add-e92a-72d2249ca3c9"
      },
      "source": [
        "# head()\n",
        "df = pd.DataFrame(np.random.randn(6,4), index=dates, columns=list('ABCD'))\n",
        "df"
      ],
      "execution_count": null,
      "outputs": [
        {
          "output_type": "execute_result",
          "data": {
            "text/html": [
              "<div>\n",
              "<style scoped>\n",
              "    .dataframe tbody tr th:only-of-type {\n",
              "        vertical-align: middle;\n",
              "    }\n",
              "\n",
              "    .dataframe tbody tr th {\n",
              "        vertical-align: top;\n",
              "    }\n",
              "\n",
              "    .dataframe thead th {\n",
              "        text-align: right;\n",
              "    }\n",
              "</style>\n",
              "<table border=\"1\" class=\"dataframe\">\n",
              "  <thead>\n",
              "    <tr style=\"text-align: right;\">\n",
              "      <th></th>\n",
              "      <th>A</th>\n",
              "      <th>B</th>\n",
              "      <th>C</th>\n",
              "      <th>D</th>\n",
              "    </tr>\n",
              "  </thead>\n",
              "  <tbody>\n",
              "    <tr>\n",
              "      <th>2021-09-27</th>\n",
              "      <td>0.291205</td>\n",
              "      <td>0.566534</td>\n",
              "      <td>0.503592</td>\n",
              "      <td>0.285296</td>\n",
              "    </tr>\n",
              "    <tr>\n",
              "      <th>2021-09-28</th>\n",
              "      <td>0.484288</td>\n",
              "      <td>1.363482</td>\n",
              "      <td>-0.781105</td>\n",
              "      <td>-0.468018</td>\n",
              "    </tr>\n",
              "    <tr>\n",
              "      <th>2021-09-29</th>\n",
              "      <td>1.224574</td>\n",
              "      <td>-1.281108</td>\n",
              "      <td>0.875476</td>\n",
              "      <td>-1.710715</td>\n",
              "    </tr>\n",
              "    <tr>\n",
              "      <th>2021-09-30</th>\n",
              "      <td>-0.450765</td>\n",
              "      <td>0.749164</td>\n",
              "      <td>-0.203933</td>\n",
              "      <td>-0.182175</td>\n",
              "    </tr>\n",
              "    <tr>\n",
              "      <th>2021-10-01</th>\n",
              "      <td>0.680656</td>\n",
              "      <td>-1.818499</td>\n",
              "      <td>0.047072</td>\n",
              "      <td>0.394844</td>\n",
              "    </tr>\n",
              "    <tr>\n",
              "      <th>2021-10-02</th>\n",
              "      <td>-0.248432</td>\n",
              "      <td>-0.617707</td>\n",
              "      <td>-0.682884</td>\n",
              "      <td>0.436258</td>\n",
              "    </tr>\n",
              "  </tbody>\n",
              "</table>\n",
              "</div>"
            ],
            "text/plain": [
              "                   A         B         C         D\n",
              "2021-09-27  0.291205  0.566534  0.503592  0.285296\n",
              "2021-09-28  0.484288  1.363482 -0.781105 -0.468018\n",
              "2021-09-29  1.224574 -1.281108  0.875476 -1.710715\n",
              "2021-09-30 -0.450765  0.749164 -0.203933 -0.182175\n",
              "2021-10-01  0.680656 -1.818499  0.047072  0.394844\n",
              "2021-10-02 -0.248432 -0.617707 -0.682884  0.436258"
            ]
          },
          "metadata": {},
          "execution_count": 37
        }
      ]
    },
    {
      "cell_type": "code",
      "metadata": {
        "id": "tL6IgZpGJkFL"
      },
      "source": [
        "np.random.seed(1234)"
      ],
      "execution_count": null,
      "outputs": []
    },
    {
      "cell_type": "markdown",
      "metadata": {
        "id": "wq1nIp3F1fFB"
      },
      "source": [
        "\n",
        "\n",
        "---\n",
        "\n"
      ]
    },
    {
      "cell_type": "markdown",
      "metadata": {
        "id": "I1IgbN4Gx5s4"
      },
      "source": [
        "# 데이터 시각화"
      ]
    },
    {
      "cell_type": "markdown",
      "metadata": {
        "id": "vaKGa-Yx6cvg"
      },
      "source": [
        "#### [도전] 데이터프레임 df의 평균(mean(0))과 표준편차를 이용한 그래프\n",
        "- 평균에 대한 꺽은선그래프\n",
        "- 평균과 표준편차를 이용한 막대그래프\n",
        "> x-축은 A,B,C,D"
      ]
    },
    {
      "cell_type": "code",
      "metadata": {
        "id": "A2YtMydfBFUV",
        "colab": {
          "base_uri": "https://localhost:8080/",
          "height": 320
        },
        "outputId": "48775a33-b6d0-4d39-e367-82ef4f595626"
      },
      "source": [
        "# df의 평균(mean(0))과 표준편차를 이용한 바그래프\n",
        "bar_labels = df.columns\n",
        "# plot bars\n",
        "plt.bar(bar_labels, df.mean(0), yerr=df.std(0), color='rgbcy')\n",
        "# plt.show()"
      ],
      "execution_count": null,
      "outputs": [
        {
          "output_type": "stream",
          "name": "stderr",
          "text": [
            "/usr/local/lib/python3.7/dist-packages/ipykernel_launcher.py:4: MatplotlibDeprecationWarning: Using a string of single character colors as a color sequence is deprecated. Use an explicit list instead.\n",
            "  after removing the cwd from sys.path.\n"
          ]
        },
        {
          "output_type": "execute_result",
          "data": {
            "text/plain": [
              "<BarContainer object of 4 artists>"
            ]
          },
          "metadata": {},
          "execution_count": 39
        },
        {
          "output_type": "display_data",
          "data": {
            "image/png": "[encoded data removed]",
            "text/plain": [
              "<Figure size 432x288 with 1 Axes>"
            ]
          },
          "metadata": {
            "needs_background": "light"
          }
        }
      ]
    },
    {
      "cell_type": "markdown",
      "metadata": {
        "id": "Kf4ixkqVx5uH"
      },
      "source": [
        "***"
      ]
    },
    {
      "cell_type": "markdown",
      "metadata": {
        "id": "4ufrGhr47LKj"
      },
      "source": [
        "## pandas의 데이터 시각화 (Visualization)"
      ]
    },
    {
      "cell_type": "code",
      "metadata": {
        "id": "t4O_8Rnw7UER",
        "colab": {
          "base_uri": "https://localhost:8080/",
          "height": 238
        },
        "outputId": "c8fd1307-dff3-4e8d-da46-14b74d41a4ba"
      },
      "source": [
        "df"
      ],
      "execution_count": null,
      "outputs": [
        {
          "output_type": "execute_result",
          "data": {
            "text/html": [
              "<div>\n",
              "<style scoped>\n",
              "    .dataframe tbody tr th:only-of-type {\n",
              "        vertical-align: middle;\n",
              "    }\n",
              "\n",
              "    .dataframe tbody tr th {\n",
              "        vertical-align: top;\n",
              "    }\n",
              "\n",
              "    .dataframe thead th {\n",
              "        text-align: right;\n",
              "    }\n",
              "</style>\n",
              "<table border=\"1\" class=\"dataframe\">\n",
              "  <thead>\n",
              "    <tr style=\"text-align: right;\">\n",
              "      <th></th>\n",
              "      <th>A</th>\n",
              "      <th>B</th>\n",
              "      <th>C</th>\n",
              "      <th>D</th>\n",
              "    </tr>\n",
              "  </thead>\n",
              "  <tbody>\n",
              "    <tr>\n",
              "      <th>2021-09-27</th>\n",
              "      <td>0.291205</td>\n",
              "      <td>0.566534</td>\n",
              "      <td>0.503592</td>\n",
              "      <td>0.285296</td>\n",
              "    </tr>\n",
              "    <tr>\n",
              "      <th>2021-09-28</th>\n",
              "      <td>0.484288</td>\n",
              "      <td>1.363482</td>\n",
              "      <td>-0.781105</td>\n",
              "      <td>-0.468018</td>\n",
              "    </tr>\n",
              "    <tr>\n",
              "      <th>2021-09-29</th>\n",
              "      <td>1.224574</td>\n",
              "      <td>-1.281108</td>\n",
              "      <td>0.875476</td>\n",
              "      <td>-1.710715</td>\n",
              "    </tr>\n",
              "    <tr>\n",
              "      <th>2021-09-30</th>\n",
              "      <td>-0.450765</td>\n",
              "      <td>0.749164</td>\n",
              "      <td>-0.203933</td>\n",
              "      <td>-0.182175</td>\n",
              "    </tr>\n",
              "    <tr>\n",
              "      <th>2021-10-01</th>\n",
              "      <td>0.680656</td>\n",
              "      <td>-1.818499</td>\n",
              "      <td>0.047072</td>\n",
              "      <td>0.394844</td>\n",
              "    </tr>\n",
              "    <tr>\n",
              "      <th>2021-10-02</th>\n",
              "      <td>-0.248432</td>\n",
              "      <td>-0.617707</td>\n",
              "      <td>-0.682884</td>\n",
              "      <td>0.436258</td>\n",
              "    </tr>\n",
              "  </tbody>\n",
              "</table>\n",
              "</div>"
            ],
            "text/plain": [
              "                   A         B         C         D\n",
              "2021-09-27  0.291205  0.566534  0.503592  0.285296\n",
              "2021-09-28  0.484288  1.363482 -0.781105 -0.468018\n",
              "2021-09-29  1.224574 -1.281108  0.875476 -1.710715\n",
              "2021-09-30 -0.450765  0.749164 -0.203933 -0.182175\n",
              "2021-10-01  0.680656 -1.818499  0.047072  0.394844\n",
              "2021-10-02 -0.248432 -0.617707 -0.682884  0.436258"
            ]
          },
          "metadata": {},
          "execution_count": 40
        }
      ]
    },
    {
      "cell_type": "markdown",
      "metadata": {
        "id": "LQw5KvJgH3Lk"
      },
      "source": [
        "### 꺽은선 그래프"
      ]
    },
    {
      "cell_type": "code",
      "metadata": {
        "id": "Twvix2E7EvNm",
        "colab": {
          "base_uri": "https://localhost:8080/",
          "height": 307
        },
        "outputId": "d790a7bd-5735-443a-dc4c-17abbb33eaa8"
      },
      "source": [
        "df['A'].plot(marker='o', c='r', ms=8)"
      ],
      "execution_count": null,
      "outputs": [
        {
          "output_type": "execute_result",
          "data": {
            "text/plain": [
              "<matplotlib.axes._subplots.AxesSubplot at 0x7fbef6f57f50>"
            ]
          },
          "metadata": {},
          "execution_count": 41
        },
        {
          "output_type": "display_data",
          "data": {
            "image/png": "[encoded data removed]",
            "text/plain": [
              "<Figure size 432x288 with 1 Axes>"
            ]
          },
          "metadata": {
            "needs_background": "light"
          }
        }
      ]
    },
    {
      "cell_type": "code",
      "metadata": {
        "id": "eYBvunC9E1FP",
        "colab": {
          "base_uri": "https://localhost:8080/",
          "height": 307
        },
        "outputId": "60ee10b7-f9d3-48fe-f38e-9ed9afcccb02"
      },
      "source": [
        "df['C'].plot(marker='D', c='g', ms=8)  # set figsize"
      ],
      "execution_count": null,
      "outputs": [
        {
          "output_type": "execute_result",
          "data": {
            "text/plain": [
              "<matplotlib.axes._subplots.AxesSubplot at 0x7fbefb706850>"
            ]
          },
          "metadata": {},
          "execution_count": 42
        },
        {
          "output_type": "display_data",
          "data": {
            "image/png": "[encoded data removed]",
            "text/plain": [
              "<Figure size 432x288 with 1 Axes>"
            ]
          },
          "metadata": {
            "needs_background": "light"
          }
        }
      ]
    },
    {
      "cell_type": "code",
      "metadata": {
        "id": "2Ky8komoHYt6",
        "colab": {
          "base_uri": "https://localhost:8080/",
          "height": 307
        },
        "outputId": "d4fe3782-db37-4ff7-b732-955fa03a20a1"
      },
      "source": [
        "df.plot(y='D', marker='*', c='r', ms=12)   # x-축은 날짜인덱스"
      ],
      "execution_count": null,
      "outputs": [
        {
          "output_type": "execute_result",
          "data": {
            "text/plain": [
              "<matplotlib.axes._subplots.AxesSubplot at 0x7fbef6e20c50>"
            ]
          },
          "metadata": {},
          "execution_count": 43
        },
        {
          "output_type": "display_data",
          "data": {
            "image/png": "[encoded data removed]",
            "text/plain": [
              "<Figure size 432x288 with 1 Axes>"
            ]
          },
          "metadata": {
            "needs_background": "light"
          }
        }
      ]
    },
    {
      "cell_type": "code",
      "metadata": {
        "id": "l1IlNnuUF95d",
        "colab": {
          "base_uri": "https://localhost:8080/",
          "height": 307
        },
        "outputId": "da7923e4-3ff3-4bdb-c96a-2d7aa1c4c48f"
      },
      "source": [
        "# 두 개의 그래프를 한 축에 그리기\n",
        "# df['A','D'].plot(marker='o', c='r', ms=8)\n",
        "df[['A','D']].plot(style=['ro-', 'bD-'], ms=8)  # works!, change colors"
      ],
      "execution_count": null,
      "outputs": [
        {
          "output_type": "execute_result",
          "data": {
            "text/plain": [
              "<matplotlib.axes._subplots.AxesSubplot at 0x7fbef6e09c90>"
            ]
          },
          "metadata": {},
          "execution_count": 44
        },
        {
          "output_type": "display_data",
          "data": {
            "image/png": "[encoded data removed]",
            "text/plain": [
              "<Figure size 432x288 with 1 Axes>"
            ]
          },
          "metadata": {
            "needs_background": "light"
          }
        }
      ]
    },
    {
      "cell_type": "code",
      "metadata": {
        "id": "PpO346h9GB5E",
        "colab": {
          "base_uri": "https://localhost:8080/",
          "height": 307
        },
        "outputId": "5ac418b0-c9da-4249-d9b0-1cedba4fe77e"
      },
      "source": [
        "df.plot(y=['A','C'], marker='o')"
      ],
      "execution_count": null,
      "outputs": [
        {
          "output_type": "execute_result",
          "data": {
            "text/plain": [
              "<matplotlib.axes._subplots.AxesSubplot at 0x7fbef6e09e10>"
            ]
          },
          "metadata": {},
          "execution_count": 45
        },
        {
          "output_type": "display_data",
          "data": {
            "image/png": "[encoded data removed]",
            "text/plain": [
              "<Figure size 432x288 with 1 Axes>"
            ]
          },
          "metadata": {
            "needs_background": "light"
          }
        }
      ]
    },
    {
      "cell_type": "markdown",
      "metadata": {
        "id": "zDd0SXGSQKMR"
      },
      "source": [
        "### 산포도 (Scatter graph)"
      ]
    },
    {
      "cell_type": "code",
      "metadata": {
        "id": "qVXSMlMVQTYN"
      },
      "source": [
        "df.plot(kind='scatter',x='C',y='A', color='r', marker='o', s=32)  "
      ],
      "execution_count": null,
      "outputs": []
    },
    {
      "cell_type": "code",
      "metadata": {
        "id": "zLlbFKxERJ9p"
      },
      "source": [
        "df.plot(kind='scatter',x='B',y='C', color='blue', marker='d', s=50)  "
      ],
      "execution_count": null,
      "outputs": []
    },
    {
      "cell_type": "markdown",
      "metadata": {
        "id": "sirI2suwH9Yh"
      },
      "source": [
        "### 바 그래프"
      ]
    },
    {
      "cell_type": "code",
      "metadata": {
        "id": "0YVzF5xyGiFc"
      },
      "source": [
        "df['A'].plot.bar()"
      ],
      "execution_count": null,
      "outputs": []
    },
    {
      "cell_type": "code",
      "metadata": {
        "id": "OQVX4QH3IWIK"
      },
      "source": [
        "df['D'].plot.bar()"
      ],
      "execution_count": null,
      "outputs": []
    },
    {
      "cell_type": "code",
      "metadata": {
        "id": "pSekXLHMoPr9"
      },
      "source": [
        "df.plot(kind='bar', y='D') #, rot=75)"
      ],
      "execution_count": null,
      "outputs": []
    },
    {
      "cell_type": "markdown",
      "metadata": {
        "id": "WUEzWDX5JC16"
      },
      "source": [
        "#### 다중 바그래프"
      ]
    },
    {
      "cell_type": "code",
      "metadata": {
        "id": "gcxproHoIMbt"
      },
      "source": [
        "df.plot(kind='bar',y=['A','C','D'])"
      ],
      "execution_count": null,
      "outputs": []
    },
    {
      "cell_type": "markdown",
      "metadata": {
        "id": "k1zlpFKBm4jc"
      },
      "source": [
        "#### 평균/표준편차 그래프"
      ]
    },
    {
      "cell_type": "code",
      "metadata": {
        "id": "1kiH3AgYn4hm"
      },
      "source": [
        "df.mean(0), df.std(0), df.columns"
      ],
      "execution_count": null,
      "outputs": []
    },
    {
      "cell_type": "code",
      "metadata": {
        "id": "SgMoh5uTIfgk"
      },
      "source": [
        "# plot bars\n",
        "# bar_labels = df.columns\n",
        "# plt.bar(bar_labels, df.mean(0), yerr=df.std(0))\n",
        "df.mean(0).plot.bar(yerr=df.std(0)) #, rot=0) "
      ],
      "execution_count": null,
      "outputs": []
    },
    {
      "cell_type": "markdown",
      "metadata": {
        "id": "IJk__nDpx9MI"
      },
      "source": [
        "\n",
        "\n",
        "---\n",
        "\n"
      ]
    },
    {
      "cell_type": "markdown",
      "metadata": {
        "id": "dmtUkwvkyC-8"
      },
      "source": [
        "### 그래프 이어 그리기"
      ]
    },
    {
      "cell_type": "code",
      "metadata": {
        "id": "zihYMbXbJP0k"
      },
      "source": [
        "x1 = np.arange(0.0, 5.0, 0.01)\n",
        "y1 = np.sin(2*np.pi*x1)\n",
        "plt.figure(figsize=(10,4))\n",
        "plt.plot(x1, y1, 'o', ms = 4)"
      ],
      "execution_count": null,
      "outputs": []
    },
    {
      "cell_type": "code",
      "metadata": {
        "id": "qTNhXTqZzKlN"
      },
      "source": [
        "x1.shape, y1.shape"
      ],
      "execution_count": null,
      "outputs": []
    },
    {
      "cell_type": "markdown",
      "metadata": {
        "id": "dmNZ6PNgyrn3"
      },
      "source": [
        "#### pandas 데이터프레임을 이용한 그래프 "
      ]
    },
    {
      "cell_type": "code",
      "metadata": {
        "id": "WpzC6VNNyM_w"
      },
      "source": [
        "df = pd.DataFrame(dict(sine=y1), index=x1, columns=['sine'])\n",
        "df.head()"
      ],
      "execution_count": null,
      "outputs": []
    },
    {
      "cell_type": "code",
      "metadata": {
        "id": "jYGyLlgKz5PQ"
      },
      "source": [
        "df.tail()"
      ],
      "execution_count": null,
      "outputs": []
    },
    {
      "cell_type": "code",
      "metadata": {
        "id": "B4OFMcqd0AeF"
      },
      "source": [
        "pre_size = int(len(df) * 0.8)\n",
        "post_size = len(df) - pre_size\n",
        "pre, post = df.iloc[0:pre_size], df.iloc[pre_size:len(df)]\n",
        "print(len(pre), len(post))"
      ],
      "execution_count": null,
      "outputs": []
    },
    {
      "cell_type": "code",
      "metadata": {
        "id": "CZ_XDFxI2N7E"
      },
      "source": [
        "post.shape"
      ],
      "execution_count": null,
      "outputs": []
    },
    {
      "cell_type": "code",
      "metadata": {
        "id": "1tsmjL2s13dn"
      },
      "source": [
        "post2 = post + np.random.normal(scale=0.2, size=len(post)).reshape(-1,1)"
      ],
      "execution_count": null,
      "outputs": []
    },
    {
      "cell_type": "code",
      "metadata": {
        "id": "yj7rZIK80xWk"
      },
      "source": [
        "plt.figure(figsize=(10,5))\n",
        "plt.plot(np.arange(0, len(pre)), pre, 'g', label=\"pre\")\n",
        "plt.plot(np.arange(len(pre), len(pre) + len(post)), post, 'b', marker='.', label=\"post\")\n",
        "plt.plot(np.arange(len(pre), len(pre) + len(post)), post2, 'r', label=\"post2\")\n",
        "plt.ylabel('Value')\n",
        "plt.xlabel('Time Step')\n",
        "plt.legend()\n",
        "plt.show();"
      ],
      "execution_count": null,
      "outputs": []
    },
    {
      "cell_type": "markdown",
      "metadata": {
        "id": "GuMpCORM3A-2"
      },
      "source": [
        "#### post  post2를 동시에 그려서 두 그래프를 비교해보시오. \n",
        "\n",
        "- subplot 사용"
      ]
    },
    {
      "cell_type": "code",
      "metadata": {
        "id": "HvjeAmyL2WcY"
      },
      "source": [
        "plt.figure(figsize=(10,5))\n"
      ],
      "execution_count": null,
      "outputs": []
    },
    {
      "cell_type": "code",
      "metadata": {
        "id": "60uHxNvo3r9V"
      },
      "source": [
        ""
      ],
      "execution_count": null,
      "outputs": []
    }
  ]
}